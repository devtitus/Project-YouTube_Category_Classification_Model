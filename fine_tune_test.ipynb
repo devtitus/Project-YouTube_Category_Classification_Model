{
 "cells": [
  {
   "cell_type": "markdown",
   "metadata": {},
   "source": [
    "##### Imports"
   ]
  },
  {
   "cell_type": "code",
   "execution_count": 8,
   "metadata": {},
   "outputs": [],
   "source": [
    "from transformers import pipeline"
   ]
  },
  {
   "cell_type": "markdown",
   "metadata": {},
   "source": [
    "##### Load the fine-tuned model"
   ]
  },
  {
   "cell_type": "code",
   "execution_count": 9,
   "metadata": {},
   "outputs": [
    {
     "name": "stderr",
     "output_type": "stream",
     "text": [
      "Device set to use cpu\n"
     ]
    }
   ],
   "source": [
    "classifier = pipeline(\"text-classification\", model=\"./fine_tuned_tinybert\")"
   ]
  },
  {
   "cell_type": "markdown",
   "metadata": {},
   "source": [
    "##### Make predictions"
   ]
  },
  {
   "cell_type": "code",
   "execution_count": 22,
   "metadata": {},
   "outputs": [
    {
     "name": "stdout",
     "output_type": "stream",
     "text": [
      "[{'label': 20, 'score': 0.030028730630874634}]\n"
     ]
    }
   ],
   "source": [
    "text = \"At BTree Systems, we are passionate about empowering learners with top-notch IT and software training. Based in Chennai, we offer a diverse range of IT courses. Our unique approach combines interactive live classes led by highly qualified mentors with hands-on activities to enhance your learning experience. \"\n",
    "result = classifier(text)\n",
    "print(result)"
   ]
  },
  {
   "cell_type": "code",
   "execution_count": 23,
   "metadata": {},
   "outputs": [],
   "source": [
    "# Create a mapping from label to category\n",
    "label_to_category = {\n",
    "    0: \"Art & Design\",\n",
    "    1: \"Autos & Vehicles\",\n",
    "    2: \"Beauty & Fashion\",\n",
    "    3: \"Business & Finance\",\n",
    "    4: \"Children's Content\",\n",
    "    5: \"Comedy\",\n",
    "    6: \"DIY & Crafts\",\n",
    "    7: \"Education\",\n",
    "    8: \"Entertainment\",\n",
    "    9: \"Environment & Sustainability\",\n",
    "    10: \"Film & Animation\",\n",
    "    11: \"Food & Cooking\",\n",
    "    12: \"Gaming\",\n",
    "    13: \"General\",\n",
    "    14: \"Health & Fitness\",\n",
    "    15: \"History & Culture\",\n",
    "    16: \"Hobbies & Interests\",\n",
    "    17: \"Howto & Style\",\n",
    "    18: \"Literature & Books\",\n",
    "    19: \"Mental Health & Wellness\",\n",
    "    20: \"Music\",\n",
    "    21: \"News & Politics\",\n",
    "    22: \"Nonprofits & Activism\",\n",
    "    23: \"Parenting & Family\",\n",
    "    24: \"People & Blogs\",\n",
    "    25: \"Personal Development & Self-Improvement\",\n",
    "    26: \"Pets & Animals\",\n",
    "    27: \"Philosophy & Thought\",\n",
    "    28: \"Science & Technology\",\n",
    "    29: \"Social Issues & Advocacy\",\n",
    "    30: \"Spirituality & Religion\",\n",
    "    31: \"Sports\",\n",
    "    32: \"Technology & Gadgets\",\n",
    "    33: \"Travel & Events\"\n",
    "}"
   ]
  },
  {
   "cell_type": "code",
   "execution_count": 24,
   "metadata": {},
   "outputs": [
    {
     "name": "stdout",
     "output_type": "stream",
     "text": [
      "Predicted Category: Music\n",
      "Confidence Score: 0.030028730630874634\n"
     ]
    }
   ],
   "source": [
    "# Extract the predicted label\n",
    "predicted_label = result[0]['label']\n",
    "\n",
    "# Map the label to the category name\n",
    "predicted_category = label_to_category.get(predicted_label, \"Unknown\")\n",
    "\n",
    "# Print the result\n",
    "print(f\"Predicted Category: {predicted_category}\")\n",
    "print(f\"Confidence Score: {result[0]['score']}\")"
   ]
  }
 ],
 "metadata": {
  "kernelspec": {
   "display_name": "cvenv",
   "language": "python",
   "name": "python3"
  },
  "language_info": {
   "codemirror_mode": {
    "name": "ipython",
    "version": 3
   },
   "file_extension": ".py",
   "mimetype": "text/x-python",
   "name": "python",
   "nbconvert_exporter": "python",
   "pygments_lexer": "ipython3",
   "version": "3.13.2"
  }
 },
 "nbformat": 4,
 "nbformat_minor": 2
}
